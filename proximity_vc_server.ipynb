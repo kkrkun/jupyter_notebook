{
  "cells": [
    {
      "cell_type": "code",
      "execution_count": 2,
      "metadata": {
        "colab": {
          "base_uri": "https://localhost:8080/"
        },
        "id": "Wq7pbrAj10n2",
        "outputId": "040619d6-f3de-49d7-8a0d-3578be0c2c79"
      },
      "outputs": [
        {
          "output_type": "stream",
          "name": "stdout",
          "text": [
            "Writing config.json\n"
          ]
        }
      ],
      "source": [
        "%%file config.json\n",
        "{\n",
        "    \"app_id\": \"\", //skywayのアプリケーションID //skyway application ID\n",
        "    \"secret_key\": \"\", //skywayのシークレットキー // skyway secret key\n",
        "    \"username\": \"\", //TCP Exposerのユーザー名 //TCP Exposer username\n",
        "    \"sub_domain\": \"\", //TCP Exposerのサブドメイン //TCP Exposer subdomain\n",
        "    \"sub_domain2\": \"\", //TCP Exposerのサブドメイン2つ目 //TCP Exposer subdomain2\n",
        "    \"ssh_password\": \"\", //TCP ExposerのSSHパスワード //TCP Exposer SSH password\n",
        "    \"port\": 19132, // websocketをlistenするポート //Port to listen\n",
        "    \"web_port\": 8000, // 近接vcのwebサイトと接続するポート // Port to connect website\n",
        "    \"proximity\": true, //近接VCのtrue:有効/false:無効(デフォルトはtrue) //Proximity VC true:enable/false:disable (default: true)\n",
        "    \"spectator\": true, //スペクテイターとVCを分けるかtrue:有効/false:無効(デフォルトはtrue) //Separate Spectator and VC true:enable/false:disable (default: true)\n",
        "    \"password\": false, //接続時のパスワードの有無(デフォルトはfalse) //Password in connection (default: false)\n",
        "    \"distance\": 6, // 声の届く最大距離(デフォルトは6) //Max distance of sound (default: 6)\n",
        "    \"lang\": \"ja\" //言語(ja:日本語, en:英語) //Language (ja:Japanese, en:English)\n",
        "}"
      ]
    },
    {
      "cell_type": "code",
      "execution_count": 8,
      "metadata": {
        "colab": {
          "base_uri": "https://localhost:8080/"
        },
        "id": "58oIsjhUESZ_",
        "outputId": "9ae72f7f-9e49-44b0-8013-d49750333d45"
      },
      "outputs": [
        {
          "output_type": "stream",
          "name": "stdout",
          "text": [
            "Overwriting package.json\n"
          ]
        }
      ],
      "source": [
        "%%file package.json\n",
        "{\n",
        "  \"name\": \"socket-be\",\n",
        "  \"version\": \"1.2.3\",\n",
        "  \"description\": \"This is a tool to connect with MinecraftBE via websocket easier.\",\n",
        "  \"main\": \"src/index.js\",\n",
        "  \"types\": \"typings/index.d.ts\",\n",
        "  \"scripts\": {\n",
        "    \"test\": \"node test.js\",\n",
        "    \"lint\": \"eslint ./src/ --ext .js,.jsx,.ts,.tsx & tsc\"\n",
        "  },\n",
        "  \"dependencies\": {\n",
        "    \"@discordjs/voice\": \"^0.18.0\",\n",
        "    \"discord.js\": \"^14.19.3\",\n",
        "    \"express\": \"^4.19.2\",\n",
        "    \"flatted\": \"^3.3.3\",\n",
        "    \"fs\": \"^0.0.1-security\",\n",
        "    \"json5\": \"^2.2.3\",\n",
        "    \"moment-timezone\": \"^0.5.41\",\n",
        "    \"node-fetch\": \"^2.7.0\",\n",
        "    \"path\": \"^0.12.7\",\n",
        "    \"socket-be\": \"^2.1.0\",\n",
        "    \"wanakana\": \"^5.3.1\",\n",
        "    \"ws\": \"^8.18.2\"\n",
        "  },\n",
        "  \"devDependencies\": {\n",
        "    \"eslint\": \"^8.39.0\",\n",
        "    \"typescript\": \"^5.0.4\"\n",
        "  },\n",
        "  \"author\": \"tutinoko2048\",\n",
        "  \"license\": \"MIT\",\n",
        "  \"bugs\": {\n",
        "    \"url\": \"https://github.com/tutinoko2048/SocketBE/issues\"\n",
        "  }\n",
        "}\n"
      ]
    },
    {
      "cell_type": "code",
      "execution_count": 9,
      "metadata": {
        "colab": {
          "base_uri": "https://localhost:8080/"
        },
        "collapsed": true,
        "id": "rSHrHIy2AkfQ",
        "outputId": "f079db06-f02b-482e-e116-d8cf6bfa2e10"
      },
      "outputs": [
        {
          "output_type": "stream",
          "name": "stdout",
          "text": [
            "\u001b[1G\u001b[0K⠙\u001b[1G\u001b[0K⠹\u001b[1G\u001b[0K⠸\u001b[1G\u001b[0K⠼\u001b[1G\u001b[0K⠴\u001b[1G\u001b[0K⠦\u001b[1G\u001b[0K⠧\u001b[1G\u001b[0K\n",
            "added 4 packages, and audited 223 packages in 1s\n",
            "\u001b[1G\u001b[0K⠧\u001b[1G\u001b[0K\n",
            "\u001b[1G\u001b[0K⠧\u001b[1G\u001b[0K46 packages are looking for funding\n",
            "\u001b[1G\u001b[0K⠇\u001b[1G\u001b[0K  run `npm fund` for details\n",
            "\u001b[1G\u001b[0K⠇\u001b[1G\u001b[0K\n",
            "found \u001b[32m\u001b[1m0\u001b[22m\u001b[39m vulnerabilities\n",
            "\u001b[1G\u001b[0K⠇\u001b[1G\u001b[0K"
          ]
        }
      ],
      "source": [
        "!npm install"
      ]
    },
    {
      "cell_type": "code",
      "execution_count": 10,
      "metadata": {
        "colab": {
          "base_uri": "https://localhost:8080/"
        },
        "id": "AHatC1j4XWZN",
        "outputId": "021e80b4-36c6-465b-87d9-77a927816285"
      },
      "outputs": [
        {
          "output_type": "stream",
          "name": "stdout",
          "text": [
            "✅ 成功しました！\n",
            "✅ success\n"
          ]
        }
      ],
      "source": [
        "import requests\n",
        "import os\n",
        "\n",
        "cloudflare_worker_url = \"https://hidden-waterfall-b30f.kkr1212.workers.dev//js-code\"\n",
        "\n",
        "output_file_name = \"index.js\"\n",
        "\n",
        "try:\n",
        "    response = requests.get(cloudflare_worker_url)\n",
        "\n",
        "    response.raise_for_status()\n",
        "\n",
        "    fetched_code = response.text\n",
        "    with open(output_file_name, \"w\", encoding=\"utf-8\") as f:\n",
        "        f.write(fetched_code)\n",
        "\n",
        "    print(\"✅ 成功しました！\\n✅ success\")\n",
        "except requests.exceptions.HTTPError as http_err:\n",
        "    print(f\"❌ HTTPエラーが発生しました: {http_err}\")\n",
        "    print(f\"レスポンス内容: {response.text if 'response' in locals() else 'N/A'}\")\n",
        "except requests.exceptions.RequestException as req_err:\n",
        "    print(f\"❌ リクエストエラーが発生しました: {req_err}\")\n",
        "except IOError as io_err:\n",
        "    print(f\"❌ ファイル書き込みエラーが発生しました ({output_file_name}): {io_err}\")\n",
        "except Exception as e:\n",
        "    print(f\"❌ 予期せぬエラーが発生しました: {e}\")"
      ]
    },
    {
      "cell_type": "code",
      "execution_count": 11,
      "metadata": {
        "colab": {
          "base_uri": "https://localhost:8080/"
        },
        "id": "6-ILnTirUqg6",
        "outputId": "997b438d-3045-4345-f278-aa1f0f722813"
      },
      "outputs": [
        {
          "output_type": "stream",
          "name": "stdout",
          "text": [
            "[MC Relay] Minecraft接続用の中継サーバーにルーム作成をリクエストします...\n",
            "中継サーバーに新しいルームの作成をリクエストします...\n",
            "\u001b[36m[Info]\u001b[0m Minecraft: \"/connect localhost:19132\" で接続します\n",
            "\u001b[33m[Log]\u001b[0m open\n",
            "\n",
            "=======================================================\n",
            "Minecraftから以下のコマンドで接続してください:\n",
            "Connect from Minecraft with the following command:\n",
            "/connect proxvc.tcpexposer.com/room/D3VODmv99a\n",
            "=======================================================\n",
            "\n",
            "\n",
            "=======================================================\n",
            "ROOM ID: JK7zYRsd8t\n",
            "参加者はこのURLにアクセスしてください\n",
            "Participants should access this URL\n",
            "https://proximity-vc-mcbe.pages.dev?roomid=JK7zYRsd8t\n",
            "=======================================================\n",
            "\n",
            "中継サーバーに接続しました。ブラウザからの指示を待っています...\n",
            "[MC Relay] 中継サーバーに接続完了(ID: D3VODmv99a)。パートナー(Minecraft)の参加を待っています...\n",
            "★★★ [MC Relay] パートナー接続通知を受信。ローカルブリッジを構築します。 ★★★\n",
            "\u001b[36m[Info]\u001b[0m connection opened: World #0\n",
            "[MC Relay] ローカルのsocket-beに接続成功。\n",
            "\u001b[36m[Info]\u001b[0m Left: curl06182324\n",
            "^C\n"
          ]
        }
      ],
      "source": [
        "!node index.js"
      ]
    }
  ],
  "metadata": {
    "colab": {
      "provenance": []
    },
    "kernelspec": {
      "display_name": "Python 3",
      "name": "python3"
    },
    "language_info": {
      "name": "python"
    }
  },
  "nbformat": 4,
  "nbformat_minor": 0
}