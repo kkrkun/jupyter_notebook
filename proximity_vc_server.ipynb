{
 "cells": [
  {
   "cell_type": "code",
   "execution_count": null,
   "metadata": {
    "cell_id": "735ace7529594860b61b9c0d26360666",
    "colab": {
     "base_uri": "https://localhost:8080/"
    },
    "deepnote_app_block_visible": false,
    "deepnote_app_is_code_hidden": true,
    "deepnote_app_is_output_hidden": true,
    "deepnote_cell_type": "code",
    "execution_context_id": "cbeede43-cc6c-4777-8825-89cc8b408d37",
    "execution_millis": 586,
    "execution_start": 1753878728795,
    "id": "Wq7pbrAj10n2",
    "outputId": "040619d6-f3de-49d7-8a0d-3578be0c2c79",
    "source_hash": "64003f8a"
   },
   "outputs": [],
   "source": [
    "%%file config.json\n",
    "{\n",
    "    \"app_id\": \"\", //skywayのアプリケーションID //skyway application ID\n",
    "    \"secret_key\": \"\", //skywayのシークレットキー // skyway secret key\n",
    "    \"username\": \"\", //TCP Exposerのユーザー名 //TCP Exposer username\n",
    "    \"sub_domain\": \"\", //TCP Exposerのサブドメイン //TCP Exposer subdomain\n",
    "    \"sub_domain2\": \"\", //TCP Exposerのサブドメイン2つ目 //TCP Exposer subdomain2\n",
    "    \"ssh_password\": \"\", //TCP ExposerのSSHパスワード //TCP Exposer SSH password\n",
    "    \"port\": 19132, // websocketをlistenするポート //Port to listen\n",
    "    \"web_port\": 8000, // 近接vcのwebサイトと接続するポート // Port to connect website\n",
    "    \"proximity\": true, //近接VCのtrue:有効/false:無効(デフォルトはtrue) //Proximity VC true:enable/false:disable (default: true)\n",
    "    \"spectator\": true, //スペクテイターとVCを分けるかtrue:有効/false:無効(デフォルトはtrue) //Separate Spectator and VC true:enable/false:disable (default: true)\n",
    "    \"password\": false, //接続時のパスワードの有無(デフォルトはfalse) //Password in connection (default: false)\n",
    "    \"distance\": 6, // 声の届く最大距離(デフォルトは6) //Max distance of sound (default: 6)\n",
    "    \"lang\": \"ja\" //言語(ja:日本語, en:英語) //Language (ja:Japanese, en:English)\n",
    "}"
   ]
  },
  {
   "cell_type": "code",
   "execution_count": null,
   "metadata": {
    "cell_id": "847de4ca0db94ce88d6fe008b86264ce",
    "colab": {
     "base_uri": "https://localhost:8080/"
    },
    "collapsed": true,
    "deepnote_app_block_visible": false,
    "deepnote_app_is_code_hidden": true,
    "deepnote_app_is_output_hidden": true,
    "deepnote_cell_type": "code",
    "execution_context_id": "cbeede43-cc6c-4777-8825-89cc8b408d37",
    "execution_millis": 62678,
    "execution_start": 1753878731334,
    "id": "rSHrHIy2AkfQ",
    "outputId": "f079db06-f02b-482e-e116-d8cf6bfa2e10",
    "source_hash": "7d54d37f"
   },
   "outputs": [],
   "source": [
    "!curl -fsSL https://deb.nodesource.com/setup_lts.x | sudo -E bash -\n",
    "!sudo apt-get install -y nodejs\n",
    "!npm install -g npm@11.4.2\n",
    "\n",
    "# バージョン確認\n",
    "!node -v\n",
    "!npm -v\n",
    "\n",
    "!npm install"
   ]
  },
  {
   "cell_type": "code",
   "execution_count": null,
   "metadata": {
    "cell_id": "3ebe5b65c1e04ae19e2f11d690091f98",
    "colab": {
     "base_uri": "https://localhost:8080/"
    },
    "deepnote_app_block_group_id": null,
    "deepnote_app_block_order": 3,
    "deepnote_app_block_visible": true,
    "deepnote_app_is_code_hidden": true,
    "deepnote_app_is_output_hidden": false,
    "deepnote_cell_type": "code",
    "execution_context_id": "b480e90a-9189-4708-a23c-7d80cc3d9437",
    "execution_millis": 128,
    "execution_start": 1753886421030,
    "id": "6-ILnTirUqg6",
    "outputId": "997b438d-3045-4345-f278-aa1f0f722813",
    "source_hash": "6b7651f1"
   },
   "outputs": [],
   "source": [
    "!node index.js"
   ]
  },
  {
   "cell_type": "markdown",
   "metadata": {
    "created_in_deepnote_cell": true,
    "deepnote_cell_type": "markdown"
   },
   "source": [
    "<a style='text-decoration:none;line-height:16px;display:flex;color:#5B5B62;padding:10px;justify-content:end;' href='https://deepnote.com?utm_source=created-in-deepnote-cell&projectId=9c0ef7a7-993e-4753-bb29-1014566b17da' target=\"_blank\">\n",
    "<img alt='Created in deepnote.com' style='display:inline;max-height:16px;margin:0px;margin-right:7.5px;' src='data:image/svg+xml;base64,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' > </img>\n",
    "Created in <span style='font-weight:600;margin-left:4px;'>Deepnote</span></a>"
   ]
  }
 ],
 "metadata": {
  "deepnote_app_hide_all_code_blocks_enabled": false,
  "deepnote_app_layout": "powerful-article",
  "deepnote_app_reactivity_enabled": true,
  "deepnote_app_run_on_load_enabled": false,
  "deepnote_notebook_id": "6b34112745d5425791f005e429d8f7c7",
  "deepnote_persisted_session": {
   "createdAt": "2025-07-30T09:22:51.131Z"
  },
  "language_info": {
   "name": "python"
  }
 },
 "nbformat": 4,
 "nbformat_minor": 0
}
